{
 "cells": [
  {
   "cell_type": "markdown",
   "metadata": {},
   "source": [
    "# A simple tutorial on the usage of the storystructure module\n"
   ]
  },
  {
   "cell_type": "code",
   "execution_count": null,
   "metadata": {
    "collapsed": false
   },
   "outputs": [],
   "source": [
    "%matplotlib inline\n",
    "from pathlib import Path\n",
    "from subprocess import call\n",
    "import numpy as np\n",
    "import pandas as pd\n",
    "from storystructure import storystructure\n",
    "from IPython.display import display, Image\n",
    "import rpy2.rinterface\n",
    "from ggplot import *\n",
    "\n",
    "dataPath = Path.cwd().parent/'data'\n",
    "figPath = Path.cwd().parent/'figs'\n"
   ]
  },
  {
   "cell_type": "markdown",
   "metadata": {},
   "source": [
    "## Dolmadakia\n",
    "\n",
    "### Visualize story graph\n"
   ]
  },
  {
   "cell_type": "code",
   "execution_count": null,
   "metadata": {
    "collapsed": false
   },
   "outputs": [],
   "source": [
    "# create a new object\n",
    "DolmadakiaStoryStructure = storystructure()\n",
    "# load an edgelist and node attributes\n",
    "DolmadakiaStoryStructure.loadStory(edges=dataPath/'dolmadakia'/'edgelist.csv',\n",
    "            nodes=dataPath/'dolmadakia'/'nodeAttributes.csv')\n",
    "# Make figure\n",
    "DolmadakiaStoryStructure.saveFig(figPath/'dolmadakia.png')\n",
    "i = Image(filename=str(figPath/'dolmadakia.png'))\n",
    "display(i)"
   ]
  },
  {
   "cell_type": "markdown",
   "metadata": {},
   "source": [
    "### Find problems or interesting features in structure\n",
    "- Removing self loops\n",
    "- Removing double edges "
   ]
  },
  {
   "cell_type": "code",
   "execution_count": null,
   "metadata": {
    "collapsed": false
   },
   "outputs": [],
   "source": [
    "DolmadakiaStoryStructure.simplify()\n",
    "DolmadakiaStoryStructure.saveFig(figPath/'dolmadakia_simplified.png')\n",
    "i = Image(filename=str(figPath/'dolmadakia_simplified.png'))\n",
    "display(i)"
   ]
  },
  {
   "cell_type": "markdown",
   "metadata": {},
   "source": [
    "## Make DAG graph\n",
    "The graph has multiple starting nodes (this is an error in the source). The correct start node is page 7"
   ]
  },
  {
   "cell_type": "code",
   "execution_count": null,
   "metadata": {
    "collapsed": false
   },
   "outputs": [],
   "source": [
    "DolmadakiaStoryStructure.makeGraph() \n",
    "[node.id for node in DolmadakiaStoryStructure.getStart()]\n"
   ]
  },
  {
   "cell_type": "code",
   "execution_count": null,
   "metadata": {
    "collapsed": false
   },
   "outputs": [],
   "source": [
    "DolmadakiaStoryStructure.saveFig(figPath/'dolmadakia_DAG.png')\n",
    "i = Image(filename=str(figPath/'dolmadakia_DAG.png'))\n",
    "display(i)"
   ]
  },
  {
   "cell_type": "markdown",
   "metadata": {},
   "source": [
    "### Enumerate all possible stories"
   ]
  },
  {
   "cell_type": "code",
   "execution_count": null,
   "metadata": {
    "collapsed": false
   },
   "outputs": [],
   "source": [
    "%%capture\n",
    "# calculate path statistics starting from root at page 7\n",
    "DolmadakiaStoryStructure.savePathStats(7, dataPath/'dolmadakia'/'allPaths.dat')\n",
    "\n",
    "DolmadakiaStoryStructure.pathsToEdgelist()\n",
    "DolmadakiaStoryStructure.saveFig(figPath/'dolmadakiaPaths.png',noSingle=True)\n",
    "i = Image(filename=str(figPath/'dolmadakiaPaths.png'))\n",
    "display(i)"
   ]
  },
  {
   "cell_type": "markdown",
   "metadata": {},
   "source": [
    "Having made a direct acyclic graph we can now calculate the total number of alternative stories in the book"
   ]
  },
  {
   "cell_type": "code",
   "execution_count": null,
   "metadata": {
    "collapsed": false
   },
   "outputs": [],
   "source": [
    "allPaths = pd.read_csv(dataPath/'dolmadakia'/'allPaths.dat', sep = \"\\t\", na_values='None')\n",
    "len(allPaths)"
   ]
  },
  {
   "cell_type": "markdown",
   "metadata": {},
   "source": [
    "Plot the distribution of story length (number of pages) by type of ending (good or bad)"
   ]
  },
  {
   "cell_type": "code",
   "execution_count": null,
   "metadata": {
    "collapsed": false
   },
   "outputs": [],
   "source": [
    "allPaths[['pathLength','endType']].pivot(columns= 'endType').plot(kind='hist', stacked = True, bins = range(30))"
   ]
  },
  {
   "cell_type": "markdown",
   "metadata": {},
   "source": [
    "Next we can count how many pauses are found in each alternative story path, as expected most stories have a single pause."
   ]
  },
  {
   "cell_type": "code",
   "execution_count": null,
   "metadata": {
    "collapsed": false
   },
   "outputs": [],
   "source": [
    "allPaths[['numberOfPause','endType']].pivot(columns= 'endType').plot(kind='hist', stacked = True)"
   ]
  },
  {
   "cell_type": "markdown",
   "metadata": {},
   "source": [
    "Distribution of number of steps to the first pause by end type."
   ]
  },
  {
   "cell_type": "code",
   "execution_count": null,
   "metadata": {
    "collapsed": false
   },
   "outputs": [],
   "source": [
    "allPaths[['stepsToFirstPause','endType']].pivot(columns= 'endType').plot(kind='hist', stacked = True, bins = range(16))"
   ]
  },
  {
   "cell_type": "markdown",
   "metadata": {},
   "source": [
    "### Find the number of sub-stories"
   ]
  },
  {
   "cell_type": "code",
   "execution_count": null,
   "metadata": {
    "collapsed": false
   },
   "outputs": [],
   "source": [
    "# cluster paths that are more than 10% similar to each other\n",
    "DolmadakiaStoryStructure.iterativeClusterPaths(0.1)\n",
    "DolmadakiaStoryStructure.pathsToEdgelist()\n",
    "DolmadakiaStoryStructure.saveFig(figPath/'dolmadakiaPathsClustered.png', noSingle=True)\n",
    "i = Image(filename=str(figPath/'dolmadakiaPathsClustered.png'))\n",
    "display(i)"
   ]
  },
  {
   "cell_type": "code",
   "execution_count": null,
   "metadata": {
    "collapsed": false
   },
   "outputs": [],
   "source": [
    "%%capture\n",
    "# recalculate paths\n",
    "DolmadakiaStoryStructure.savePathStats(7, dataPath/'dolmadakia'/'allPaths.dat')\n",
    "\n",
    "# Try different thresholds for clustering\n",
    "thresholds = np.arange(10)/10 + 0.1\n",
    "CutoffEffect = pd.DataFrame(index=range(len(thresholds)),columns=['Threshold','NumberOfPaths'])\n",
    "\n",
    "for i, threshold in enumerate(thresholds):\n",
    "    DolmadakiaStoryStructure.iterativeClusterPaths(threshold)\n",
    "    CutoffEffect.iloc[i]=[threshold,len(DolmadakiaStoryStructure.paths)]"
   ]
  },
  {
   "cell_type": "code",
   "execution_count": null,
   "metadata": {
    "collapsed": false
   },
   "outputs": [],
   "source": [
    "CutoffEffect.to_csv(dataPath/'dolmadakia'/'CutoffEffect.dat')\n",
    "CutoffEffect.plot(kind='bar',x='Threshold', y = 'NumberOfPaths')\n",
    "CutoffEffect.plot(kind='scatter',x='Threshold', y = 'NumberOfPaths',loglog=True)"
   ]
  },
  {
   "cell_type": "markdown",
   "metadata": {},
   "source": [
    "## Orient Express!"
   ]
  },
  {
   "cell_type": "code",
   "execution_count": null,
   "metadata": {
    "collapsed": false,
    "scrolled": false
   },
   "outputs": [],
   "source": [
    "# create a new object\n",
    "OrientExpressStoryStructure = storystructure()\n",
    "# load an edgelist and node attributes\n",
    "OrientExpressStoryStructure.loadStory(edges=dataPath/'orientExpress'/'edgelist.csv',\n",
    "            nodes=dataPath/'orientExpress'/'nodeAttributes.csv')\n",
    "# Make figure\n",
    "OrientExpressStoryStructure.saveFig(figPath/'orientExpress.png')\n",
    "i = Image(filename=str(figPath/'orientExpress.png'))\n",
    "display(i)\n",
    "OrientExpressStoryStructure.simplify()\n",
    "OrientExpressStoryStructure.makeGraph() \n",
    "#%%capture\n",
    "OrientExpressStoryStructure.savePathStats(6, dataPath/'orientExpress'/'allPaths.dat')\n",
    "\n",
    "OrientExpressStoryStructure.pathsToEdgelist()\n",
    "OrientExpressStoryStructure.saveFig(figPath/'orientExpressPaths.png')\n",
    "i = Image(filename=str(figPath/'orientExpressPaths.png'))\n",
    "display(i)"
   ]
  },
  {
   "cell_type": "code",
   "execution_count": null,
   "metadata": {
    "collapsed": false
   },
   "outputs": [],
   "source": [
    "[node.id for node in OrientExpressStoryStructure.getStart()]\n"
   ]
  },
  {
   "cell_type": "code",
   "execution_count": null,
   "metadata": {
    "collapsed": false
   },
   "outputs": [],
   "source": [
    "allPaths = pd.read_csv(dataPath/'orientExpress'/'allPaths.dat', sep = \"\\t\", na_values='None')\n",
    "len(allPaths)"
   ]
  },
  {
   "cell_type": "code",
   "execution_count": null,
   "metadata": {
    "collapsed": true
   },
   "outputs": [],
   "source": [
    "# Try different thresholds for clustering\n",
    "thresholds = np.arange(10)/10 + 0.1\n",
    "CutoffEffect = pd.DataFrame(index=range(len(thresholds)),columns=['Threshold','NumberOfPaths'])\n",
    "\n",
    "for i, threshold in enumerate(thresholds):\n",
    "    OrientExpressStoryStructure.iterativeClusterPaths(threshold)\n",
    "    CutoffEffect.iloc[i]=[threshold,len(OrientExpressStoryStructure.paths)]"
   ]
  },
  {
   "cell_type": "code",
   "execution_count": null,
   "metadata": {
    "collapsed": false
   },
   "outputs": [],
   "source": [
    "CutoffEffect.to_csv(dataPath/'orientExpress'/'CutoffEffect.dat')\n",
    "CutoffEffect.plot(kind='bar',x='Threshold', y = 'NumberOfPaths')\n",
    "CutoffEffect.plot(kind='scatter',x='Threshold', y = 'NumberOfPaths',loglog=True)"
   ]
  },
  {
   "cell_type": "code",
   "execution_count": null,
   "metadata": {
    "collapsed": false
   },
   "outputs": [],
   "source": [
    "# recalculate paths\n",
    "OrientExpressStoryStructure.savePathStats(6, dataPath/'orientExpress'/'allPaths.dat')\n"
   ]
  },
  {
   "cell_type": "code",
   "execution_count": null,
   "metadata": {
    "collapsed": false,
    "scrolled": false
   },
   "outputs": [],
   "source": [
    "# cluster paths that are more than 10% similar to each other\n",
    "OrientExpressStoryStructure.iterativeClusterPaths(0.1)\n",
    "OrientExpressStoryStructure.pathsToEdgelist()\n",
    "OrientExpressStoryStructure.saveFig(figPath/'orientExpressPathsClustered.png', noSingle=True)\n",
    "i = Image(filename=str(figPath/'orientExpressPathsClustered.png'))\n",
    "display(i)"
   ]
  }
 ],
 "metadata": {
  "kernelspec": {
   "display_name": "Python 3",
   "language": "python",
   "name": "python3"
  },
  "language_info": {
   "codemirror_mode": {
    "name": "ipython",
    "version": 3
   },
   "file_extension": ".py",
   "mimetype": "text/x-python",
   "name": "python",
   "nbconvert_exporter": "python",
   "pygments_lexer": "ipython3",
   "version": "3.6.6"
  }
 },
 "nbformat": 4,
 "nbformat_minor": 2
}
